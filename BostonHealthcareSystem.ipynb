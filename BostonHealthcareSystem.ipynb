{
 "cells": [
  {
   "cell_type": "code",
   "execution_count": null,
   "id": "03ff7250",
   "metadata": {},
   "outputs": [],
   "source": [
    "# Created by: Jess Gallo\n",
    "# Date Created: 08/08/2022\n",
    "# Last Modified: 08/08/2022\n",
    "# Description: Data Scientist Technical Skills Assessment\n",
    "# CSP Informatics Center, VA Boston Healthcare System\n",
    "\n",
    "# This is a classification problem (Outcome: Dead or Alive)"
   ]
  },
  {
   "cell_type": "code",
   "execution_count": 55,
   "id": "4db3630c",
   "metadata": {},
   "outputs": [],
   "source": [
    "# Libraries\n",
    "import pandas as pd\n",
    "import fuzzywuzzy\n",
    "from fuzzywuzzy import process\n",
    "import matplotlib.pyplot as plt\n",
    "import seaborn as sns\n",
    "import numpy as np\n",
    "from sklearn.preprocessing import OneHotEncoder\n",
    "from sklearn.compose import make_column_transformer\n",
    "from sklearn.preprocessing import MinMaxScaler\n",
    "from sklearn.model_selection import train_test_split\n",
    "from sklearn.model_selection import KFold\n",
    "from sklearn.model_selection import cross_val_score\n",
    "from sklearn.metrics import classification_report\n",
    "from sklearn.metrics import confusion_matrix\n",
    "from sklearn.metrics import accuracy_score\n",
    "from sklearn.linear_model import LogisticRegression\n",
    "from sklearn.tree import DecisionTreeClassifier\n",
    "from sklearn.neighbors import KNeighborsClassifier\n",
    "from sklearn.discriminant_analysis import  LinearDiscriminantAnalysis\n",
    "from sklearn.naive_bayes import  GaussianNB\n",
    "from sklearn.svm import  SVC\n",
    "import warnings"
   ]
  },
  {
   "cell_type": "code",
   "execution_count": 2,
   "id": "f4ca7d46",
   "metadata": {},
   "outputs": [
    {
     "data": {
      "text/html": [
       "<div>\n",
       "<style scoped>\n",
       "    .dataframe tbody tr th:only-of-type {\n",
       "        vertical-align: middle;\n",
       "    }\n",
       "\n",
       "    .dataframe tbody tr th {\n",
       "        vertical-align: top;\n",
       "    }\n",
       "\n",
       "    .dataframe thead th {\n",
       "        text-align: right;\n",
       "    }\n",
       "</style>\n",
       "<table border=\"1\" class=\"dataframe\">\n",
       "  <thead>\n",
       "    <tr style=\"text-align: right;\">\n",
       "      <th></th>\n",
       "      <th>Outcome</th>\n",
       "      <th>Survival.Months</th>\n",
       "      <th>Age</th>\n",
       "      <th>Grade</th>\n",
       "      <th>Num.Primaries</th>\n",
       "      <th>T</th>\n",
       "      <th>N</th>\n",
       "      <th>M</th>\n",
       "      <th>Radiation</th>\n",
       "      <th>Stage</th>\n",
       "      <th>Primary.Site</th>\n",
       "      <th>Histology</th>\n",
       "      <th>Tumor.Size</th>\n",
       "      <th>Num.Mutated.Genes</th>\n",
       "      <th>Num.Mutations</th>\n",
       "    </tr>\n",
       "    <tr>\n",
       "      <th>ID</th>\n",
       "      <th></th>\n",
       "      <th></th>\n",
       "      <th></th>\n",
       "      <th></th>\n",
       "      <th></th>\n",
       "      <th></th>\n",
       "      <th></th>\n",
       "      <th></th>\n",
       "      <th></th>\n",
       "      <th></th>\n",
       "      <th></th>\n",
       "      <th></th>\n",
       "      <th></th>\n",
       "      <th></th>\n",
       "      <th></th>\n",
       "    </tr>\n",
       "  </thead>\n",
       "  <tbody>\n",
       "    <tr>\n",
       "      <th>1</th>\n",
       "      <td>Alive</td>\n",
       "      <td>9.0</td>\n",
       "      <td>67</td>\n",
       "      <td>4</td>\n",
       "      <td>0</td>\n",
       "      <td>UNK</td>\n",
       "      <td>2.0</td>\n",
       "      <td>NaN</td>\n",
       "      <td>0</td>\n",
       "      <td>IV</td>\n",
       "      <td>Left Lower Lobe</td>\n",
       "      <td>Squamous cell carcinoma</td>\n",
       "      <td>1.4</td>\n",
       "      <td>8</td>\n",
       "      <td>8</td>\n",
       "    </tr>\n",
       "    <tr>\n",
       "      <th>2</th>\n",
       "      <td>Dead</td>\n",
       "      <td>19.0</td>\n",
       "      <td>73</td>\n",
       "      <td>2</td>\n",
       "      <td>0</td>\n",
       "      <td>UNK</td>\n",
       "      <td>2.0</td>\n",
       "      <td>0.0</td>\n",
       "      <td>5</td>\n",
       "      <td>IV</td>\n",
       "      <td>Right Upper Lobe</td>\n",
       "      <td>Adenocarcinoma</td>\n",
       "      <td>NaN</td>\n",
       "      <td>2</td>\n",
       "      <td>2</td>\n",
       "    </tr>\n",
       "    <tr>\n",
       "      <th>3</th>\n",
       "      <td>Dead</td>\n",
       "      <td>13.0</td>\n",
       "      <td>72</td>\n",
       "      <td>3</td>\n",
       "      <td>0</td>\n",
       "      <td>2</td>\n",
       "      <td>2.0</td>\n",
       "      <td>0.0</td>\n",
       "      <td>0</td>\n",
       "      <td>IIIA</td>\n",
       "      <td>Right Upper Lobe</td>\n",
       "      <td>Adenocarcinoma</td>\n",
       "      <td>1.5</td>\n",
       "      <td>1</td>\n",
       "      <td>1</td>\n",
       "    </tr>\n",
       "    <tr>\n",
       "      <th>4</th>\n",
       "      <td>Dead</td>\n",
       "      <td>15.0</td>\n",
       "      <td>69</td>\n",
       "      <td>9</td>\n",
       "      <td>1</td>\n",
       "      <td>1a</td>\n",
       "      <td>0.0</td>\n",
       "      <td>1.0</td>\n",
       "      <td>0</td>\n",
       "      <td>IA</td>\n",
       "      <td>Right Upper Lobe</td>\n",
       "      <td>Adenocarcinoma</td>\n",
       "      <td>NaN</td>\n",
       "      <td>4</td>\n",
       "      <td>4</td>\n",
       "    </tr>\n",
       "    <tr>\n",
       "      <th>5</th>\n",
       "      <td>Dead</td>\n",
       "      <td>10.0</td>\n",
       "      <td>76</td>\n",
       "      <td>9</td>\n",
       "      <td>0</td>\n",
       "      <td>UNK</td>\n",
       "      <td>NaN</td>\n",
       "      <td>NaN</td>\n",
       "      <td>0</td>\n",
       "      <td>IIIA</td>\n",
       "      <td>Left Hilar</td>\n",
       "      <td>Large-cell carcinoma</td>\n",
       "      <td>NaN</td>\n",
       "      <td>3</td>\n",
       "      <td>3</td>\n",
       "    </tr>\n",
       "  </tbody>\n",
       "</table>\n",
       "</div>"
      ],
      "text/plain": [
       "   Outcome  Survival.Months  Age  Grade  Num.Primaries    T    N    M  \\\n",
       "ID                                                                      \n",
       "1    Alive              9.0   67      4              0  UNK  2.0  NaN   \n",
       "2     Dead             19.0   73      2              0  UNK  2.0  0.0   \n",
       "3     Dead             13.0   72      3              0    2  2.0  0.0   \n",
       "4     Dead             15.0   69      9              1   1a  0.0  1.0   \n",
       "5     Dead             10.0   76      9              0  UNK  NaN  NaN   \n",
       "\n",
       "    Radiation Stage      Primary.Site                Histology  Tumor.Size  \\\n",
       "ID                                                                           \n",
       "1           0    IV   Left Lower Lobe  Squamous cell carcinoma         1.4   \n",
       "2           5    IV  Right Upper Lobe           Adenocarcinoma         NaN   \n",
       "3           0  IIIA  Right Upper Lobe           Adenocarcinoma         1.5   \n",
       "4           0    IA  Right Upper Lobe           Adenocarcinoma         NaN   \n",
       "5           0  IIIA        Left Hilar     Large-cell carcinoma         NaN   \n",
       "\n",
       "    Num.Mutated.Genes  Num.Mutations  \n",
       "ID                                    \n",
       "1                   8              8  \n",
       "2                   2              2  \n",
       "3                   1              1  \n",
       "4                   4              4  \n",
       "5                   3              3  "
      ]
     },
     "execution_count": 2,
     "metadata": {},
     "output_type": "execute_result"
    }
   ],
   "source": [
    "# Import csv\n",
    "filename = pd.read_csv(r\"C:\\Users\\Gallo\\Downloads\\Data_Scientist_Exercise\\clinical.csv\", index_col=0)\n",
    "df = pd.DataFrame(filename)\n",
    "\n",
    "df.head()"
   ]
  },
  {
   "cell_type": "code",
   "execution_count": 3,
   "id": "d6625cea",
   "metadata": {},
   "outputs": [
    {
     "name": "stdout",
     "output_type": "stream",
     "text": [
      "<class 'pandas.core.frame.DataFrame'>\n",
      "Int64Index: 190 entries, 1 to 190\n",
      "Data columns (total 15 columns):\n",
      " #   Column             Non-Null Count  Dtype  \n",
      "---  ------             --------------  -----  \n",
      " 0   Outcome            190 non-null    object \n",
      " 1   Survival.Months    190 non-null    float64\n",
      " 2   Age                190 non-null    int64  \n",
      " 3   Grade              190 non-null    int64  \n",
      " 4   Num.Primaries      190 non-null    int64  \n",
      " 5   T                  190 non-null    object \n",
      " 6   N                  125 non-null    float64\n",
      " 7   M                  94 non-null     float64\n",
      " 8   Radiation          190 non-null    int64  \n",
      " 9   Stage              190 non-null    object \n",
      " 10  Primary.Site       190 non-null    object \n",
      " 11  Histology          190 non-null    object \n",
      " 12  Tumor.Size         98 non-null     float64\n",
      " 13  Num.Mutated.Genes  190 non-null    int64  \n",
      " 14  Num.Mutations      190 non-null    int64  \n",
      "dtypes: float64(4), int64(6), object(5)\n",
      "memory usage: 23.8+ KB\n"
     ]
    }
   ],
   "source": [
    "df.info()"
   ]
  },
  {
   "cell_type": "code",
   "execution_count": 4,
   "id": "13120cf2",
   "metadata": {},
   "outputs": [
    {
     "data": {
      "text/html": [
       "<div>\n",
       "<style scoped>\n",
       "    .dataframe tbody tr th:only-of-type {\n",
       "        vertical-align: middle;\n",
       "    }\n",
       "\n",
       "    .dataframe tbody tr th {\n",
       "        vertical-align: top;\n",
       "    }\n",
       "\n",
       "    .dataframe thead th {\n",
       "        text-align: right;\n",
       "    }\n",
       "</style>\n",
       "<table border=\"1\" class=\"dataframe\">\n",
       "  <thead>\n",
       "    <tr style=\"text-align: right;\">\n",
       "      <th></th>\n",
       "      <th>Survival.Months</th>\n",
       "      <th>Age</th>\n",
       "      <th>Grade</th>\n",
       "      <th>Num.Primaries</th>\n",
       "      <th>N</th>\n",
       "      <th>M</th>\n",
       "      <th>Radiation</th>\n",
       "      <th>Tumor.Size</th>\n",
       "      <th>Num.Mutated.Genes</th>\n",
       "      <th>Num.Mutations</th>\n",
       "    </tr>\n",
       "  </thead>\n",
       "  <tbody>\n",
       "    <tr>\n",
       "      <th>count</th>\n",
       "      <td>190.000000</td>\n",
       "      <td>190.000000</td>\n",
       "      <td>190.000000</td>\n",
       "      <td>190.000000</td>\n",
       "      <td>125.000000</td>\n",
       "      <td>94.000000</td>\n",
       "      <td>190.000000</td>\n",
       "      <td>98.000000</td>\n",
       "      <td>190.000000</td>\n",
       "      <td>190.000000</td>\n",
       "    </tr>\n",
       "    <tr>\n",
       "      <th>mean</th>\n",
       "      <td>22.186842</td>\n",
       "      <td>70.173684</td>\n",
       "      <td>6.105263</td>\n",
       "      <td>0.226316</td>\n",
       "      <td>1.144000</td>\n",
       "      <td>0.085106</td>\n",
       "      <td>1.657895</td>\n",
       "      <td>4.494898</td>\n",
       "      <td>2.684211</td>\n",
       "      <td>3.084211</td>\n",
       "    </tr>\n",
       "    <tr>\n",
       "      <th>std</th>\n",
       "      <td>12.420140</td>\n",
       "      <td>6.146909</td>\n",
       "      <td>2.995495</td>\n",
       "      <td>0.419551</td>\n",
       "      <td>1.029438</td>\n",
       "      <td>0.280536</td>\n",
       "      <td>2.360122</td>\n",
       "      <td>3.050988</td>\n",
       "      <td>1.460327</td>\n",
       "      <td>1.697575</td>\n",
       "    </tr>\n",
       "    <tr>\n",
       "      <th>min</th>\n",
       "      <td>9.000000</td>\n",
       "      <td>56.000000</td>\n",
       "      <td>2.000000</td>\n",
       "      <td>0.000000</td>\n",
       "      <td>0.000000</td>\n",
       "      <td>0.000000</td>\n",
       "      <td>0.000000</td>\n",
       "      <td>1.000000</td>\n",
       "      <td>0.000000</td>\n",
       "      <td>0.000000</td>\n",
       "    </tr>\n",
       "    <tr>\n",
       "      <th>25%</th>\n",
       "      <td>11.000000</td>\n",
       "      <td>67.000000</td>\n",
       "      <td>3.000000</td>\n",
       "      <td>0.000000</td>\n",
       "      <td>0.000000</td>\n",
       "      <td>0.000000</td>\n",
       "      <td>0.000000</td>\n",
       "      <td>2.000000</td>\n",
       "      <td>2.000000</td>\n",
       "      <td>2.000000</td>\n",
       "    </tr>\n",
       "    <tr>\n",
       "      <th>50%</th>\n",
       "      <td>16.000000</td>\n",
       "      <td>71.000000</td>\n",
       "      <td>9.000000</td>\n",
       "      <td>0.000000</td>\n",
       "      <td>2.000000</td>\n",
       "      <td>0.000000</td>\n",
       "      <td>0.000000</td>\n",
       "      <td>3.600000</td>\n",
       "      <td>3.000000</td>\n",
       "      <td>3.000000</td>\n",
       "    </tr>\n",
       "    <tr>\n",
       "      <th>75%</th>\n",
       "      <td>34.000000</td>\n",
       "      <td>74.000000</td>\n",
       "      <td>9.000000</td>\n",
       "      <td>0.000000</td>\n",
       "      <td>2.000000</td>\n",
       "      <td>0.000000</td>\n",
       "      <td>5.000000</td>\n",
       "      <td>8.000000</td>\n",
       "      <td>3.000000</td>\n",
       "      <td>4.000000</td>\n",
       "    </tr>\n",
       "    <tr>\n",
       "      <th>max</th>\n",
       "      <td>71.000000</td>\n",
       "      <td>84.000000</td>\n",
       "      <td>9.000000</td>\n",
       "      <td>1.000000</td>\n",
       "      <td>3.000000</td>\n",
       "      <td>1.000000</td>\n",
       "      <td>5.000000</td>\n",
       "      <td>10.000000</td>\n",
       "      <td>8.000000</td>\n",
       "      <td>8.000000</td>\n",
       "    </tr>\n",
       "  </tbody>\n",
       "</table>\n",
       "</div>"
      ],
      "text/plain": [
       "       Survival.Months         Age       Grade  Num.Primaries           N  \\\n",
       "count       190.000000  190.000000  190.000000     190.000000  125.000000   \n",
       "mean         22.186842   70.173684    6.105263       0.226316    1.144000   \n",
       "std          12.420140    6.146909    2.995495       0.419551    1.029438   \n",
       "min           9.000000   56.000000    2.000000       0.000000    0.000000   \n",
       "25%          11.000000   67.000000    3.000000       0.000000    0.000000   \n",
       "50%          16.000000   71.000000    9.000000       0.000000    2.000000   \n",
       "75%          34.000000   74.000000    9.000000       0.000000    2.000000   \n",
       "max          71.000000   84.000000    9.000000       1.000000    3.000000   \n",
       "\n",
       "               M   Radiation  Tumor.Size  Num.Mutated.Genes  Num.Mutations  \n",
       "count  94.000000  190.000000   98.000000         190.000000     190.000000  \n",
       "mean    0.085106    1.657895    4.494898           2.684211       3.084211  \n",
       "std     0.280536    2.360122    3.050988           1.460327       1.697575  \n",
       "min     0.000000    0.000000    1.000000           0.000000       0.000000  \n",
       "25%     0.000000    0.000000    2.000000           2.000000       2.000000  \n",
       "50%     0.000000    0.000000    3.600000           3.000000       3.000000  \n",
       "75%     0.000000    5.000000    8.000000           3.000000       4.000000  \n",
       "max     1.000000    5.000000   10.000000           8.000000       8.000000  "
      ]
     },
     "execution_count": 4,
     "metadata": {},
     "output_type": "execute_result"
    }
   ],
   "source": [
    "df.describe()"
   ]
  },
  {
   "cell_type": "markdown",
   "id": "1c2fe6a9",
   "metadata": {},
   "source": [
    "# Data Cleaning\n",
    "\n",
    "Checking categorical columns for inconsistent data entry."
   ]
  },
  {
   "cell_type": "code",
   "execution_count": 5,
   "id": "f2e8df18",
   "metadata": {},
   "outputs": [
    {
     "data": {
      "text/plain": [
       "array(['1B', 'IA', 'IB', 'IIA', 'IIB', 'IIIA', 'IIIB', 'IV', 'IVB'],\n",
       "      dtype=object)"
      ]
     },
     "execution_count": 5,
     "metadata": {},
     "output_type": "execute_result"
    }
   ],
   "source": [
    "stage = df['Stage'].unique()\n",
    "stage.sort()\n",
    "stage"
   ]
  },
  {
   "cell_type": "code",
   "execution_count": 6,
   "id": "b28be55a",
   "metadata": {},
   "outputs": [
    {
     "data": {
      "text/plain": [
       "Stage\n",
       "1B       1\n",
       "IA      32\n",
       "IB       1\n",
       "IIA      8\n",
       "IIB     11\n",
       "IIIA    43\n",
       "IIIB    24\n",
       "IV      45\n",
       "IVB     25\n",
       "dtype: int64"
      ]
     },
     "execution_count": 6,
     "metadata": {},
     "output_type": "execute_result"
    }
   ],
   "source": [
    "df.groupby('Stage').size()"
   ]
  },
  {
   "cell_type": "markdown",
   "id": "5aa8b4b9",
   "metadata": {},
   "source": [
    "Based on the data, I believe that the unique value '1B' is a mistake that should be changed to IB."
   ]
  },
  {
   "cell_type": "code",
   "execution_count": 7,
   "id": "42359812",
   "metadata": {},
   "outputs": [],
   "source": [
    "df['Stage'] = df['Stage'].replace(['1B'], 'IB')"
   ]
  },
  {
   "cell_type": "code",
   "execution_count": 8,
   "id": "a0be8313",
   "metadata": {},
   "outputs": [
    {
     "data": {
      "text/plain": [
       "array(['IA', 'IB', 'IIA', 'IIB', 'IIIA', 'IIIB', 'IV', 'IVB'],\n",
       "      dtype=object)"
      ]
     },
     "execution_count": 8,
     "metadata": {},
     "output_type": "execute_result"
    }
   ],
   "source": [
    "stage = df['Stage'].unique()\n",
    "stage.sort()\n",
    "stage"
   ]
  },
  {
   "cell_type": "code",
   "execution_count": 9,
   "id": "d08ae211",
   "metadata": {},
   "outputs": [
    {
     "data": {
      "text/plain": [
       "array(['Both Lung', 'Left Hilar', 'Left Lower Lobe', 'Left Upper Lobe',\n",
       "       'Righ Upper Lobe', 'Right Hilar', 'Right Lower Lobe',\n",
       "       'Right Middle Lobe', 'Right Upper Lobe'], dtype=object)"
      ]
     },
     "execution_count": 9,
     "metadata": {},
     "output_type": "execute_result"
    }
   ],
   "source": [
    "site = df['Primary.Site'].unique()\n",
    "site.sort()\n",
    "site"
   ]
  },
  {
   "cell_type": "markdown",
   "id": "d6575f22",
   "metadata": {},
   "source": [
    "There is a spelling error that creates 2 separate values for Right Upper Lobe. We can use Fuzzywuzzy to fix this."
   ]
  },
  {
   "cell_type": "code",
   "execution_count": 10,
   "id": "fd0e4ad6",
   "metadata": {},
   "outputs": [
    {
     "data": {
      "text/plain": [
       "[('Right Upper Lobe', 100), ('Righ Upper Lobe', 97)]"
      ]
     },
     "execution_count": 10,
     "metadata": {},
     "output_type": "execute_result"
    }
   ],
   "source": [
    "# get the top 2 closest matches to \"Right Upper Lobe\"\n",
    "matches = fuzzywuzzy.process.extract('Right Upper Lobe', site, limit=2, scorer=fuzzywuzzy.fuzz.token_sort_ratio)\n",
    "matches"
   ]
  },
  {
   "cell_type": "code",
   "execution_count": 11,
   "id": "b24eba64",
   "metadata": {},
   "outputs": [],
   "source": [
    "# replaces rows with what we need from matches above\n",
    "def replace_matches_in_column(df, column, string_to_match, min_ratio = 97):\n",
    "    strings = df[column].unique()\n",
    "    \n",
    "    # get the top 2 closest matches to our input string\n",
    "    matches = fuzzywuzzy.process.extract(string_to_match, strings, limit=2, scorer=fuzzywuzzy.fuzz.token_sort_ratio)\n",
    "\n",
    "    # only get matches with a ratio > 90\n",
    "    close_matches = [matches[0] for matches in matches if matches[1] >= min_ratio]\n",
    "\n",
    "    # get the rows of all the close matches in our dataframe\n",
    "    rows_with_matches = df[column].isin(close_matches)\n",
    "\n",
    "    # replace all rows with close matches with the input matches \n",
    "    df.loc[rows_with_matches, column] = string_to_match\n",
    "    \n",
    "    # let us know the function's done\n",
    "    print('Done')"
   ]
  },
  {
   "cell_type": "code",
   "execution_count": 12,
   "id": "3318669d",
   "metadata": {},
   "outputs": [
    {
     "name": "stdout",
     "output_type": "stream",
     "text": [
      "Done\n"
     ]
    }
   ],
   "source": [
    "replace_matches_in_column(df=df, column='Primary.Site', string_to_match='Right Upper Lobe')"
   ]
  },
  {
   "cell_type": "code",
   "execution_count": 13,
   "id": "2272fd91",
   "metadata": {},
   "outputs": [
    {
     "data": {
      "text/plain": [
       "array(['Left Lower Lobe', 'Right Upper Lobe', 'Left Hilar', 'Right Hilar',\n",
       "       'Left Upper Lobe', 'Right Lower Lobe', 'Both Lung',\n",
       "       'Right Middle Lobe'], dtype=object)"
      ]
     },
     "execution_count": 13,
     "metadata": {},
     "output_type": "execute_result"
    }
   ],
   "source": [
    "site = df['Primary.Site'].unique()\n",
    "site"
   ]
  },
  {
   "cell_type": "markdown",
   "id": "150a7839",
   "metadata": {},
   "source": [
    "The column T has an UNK (Null) value. Left it for now, but might change it to NaN and Impute data"
   ]
  },
  {
   "cell_type": "code",
   "execution_count": null,
   "id": "3faccbad",
   "metadata": {},
   "outputs": [],
   "source": [
    "t = df['T'].unique()\n",
    "t.sort()\n",
    "t"
   ]
  },
  {
   "cell_type": "markdown",
   "id": "33aa9a4f",
   "metadata": {},
   "source": [
    "Checking for missing data."
   ]
  },
  {
   "cell_type": "code",
   "execution_count": 14,
   "id": "67649f79",
   "metadata": {},
   "outputs": [
    {
     "data": {
      "text/plain": [
       "Outcome              False\n",
       "Survival.Months      False\n",
       "Age                  False\n",
       "Grade                False\n",
       "Num.Primaries        False\n",
       "T                    False\n",
       "N                     True\n",
       "M                     True\n",
       "Radiation            False\n",
       "Stage                False\n",
       "Primary.Site         False\n",
       "Histology            False\n",
       "Tumor.Size            True\n",
       "Num.Mutated.Genes    False\n",
       "Num.Mutations        False\n",
       "dtype: bool"
      ]
     },
     "execution_count": 14,
     "metadata": {},
     "output_type": "execute_result"
    }
   ],
   "source": [
    "df.isnull().any()"
   ]
  },
  {
   "cell_type": "markdown",
   "id": "0556caa1",
   "metadata": {},
   "source": [
    "There is missing data in columns 'N', 'M' and 'Tumor.Size'. Since there is a lot of data missing from "
   ]
  },
  {
   "cell_type": "code",
   "execution_count": 15,
   "id": "424cff5b",
   "metadata": {},
   "outputs": [
    {
     "data": {
      "text/html": [
       "<div>\n",
       "<style scoped>\n",
       "    .dataframe tbody tr th:only-of-type {\n",
       "        vertical-align: middle;\n",
       "    }\n",
       "\n",
       "    .dataframe tbody tr th {\n",
       "        vertical-align: top;\n",
       "    }\n",
       "\n",
       "    .dataframe thead th {\n",
       "        text-align: right;\n",
       "    }\n",
       "</style>\n",
       "<table border=\"1\" class=\"dataframe\">\n",
       "  <thead>\n",
       "    <tr style=\"text-align: right;\">\n",
       "      <th></th>\n",
       "      <th>Outcome</th>\n",
       "      <th>Survival.Months</th>\n",
       "      <th>Age</th>\n",
       "      <th>Grade</th>\n",
       "      <th>Num.Primaries</th>\n",
       "      <th>T</th>\n",
       "      <th>N</th>\n",
       "      <th>M</th>\n",
       "      <th>Radiation</th>\n",
       "      <th>Stage</th>\n",
       "      <th>Primary.Site</th>\n",
       "      <th>Histology</th>\n",
       "      <th>Tumor.Size</th>\n",
       "      <th>Num.Mutated.Genes</th>\n",
       "      <th>Num.Mutations</th>\n",
       "      <th>N_imp</th>\n",
       "      <th>M_imp</th>\n",
       "      <th>Tumor.Size_imp</th>\n",
       "    </tr>\n",
       "    <tr>\n",
       "      <th>ID</th>\n",
       "      <th></th>\n",
       "      <th></th>\n",
       "      <th></th>\n",
       "      <th></th>\n",
       "      <th></th>\n",
       "      <th></th>\n",
       "      <th></th>\n",
       "      <th></th>\n",
       "      <th></th>\n",
       "      <th></th>\n",
       "      <th></th>\n",
       "      <th></th>\n",
       "      <th></th>\n",
       "      <th></th>\n",
       "      <th></th>\n",
       "      <th></th>\n",
       "      <th></th>\n",
       "      <th></th>\n",
       "    </tr>\n",
       "  </thead>\n",
       "  <tbody>\n",
       "    <tr>\n",
       "      <th>1</th>\n",
       "      <td>Alive</td>\n",
       "      <td>9.0</td>\n",
       "      <td>67</td>\n",
       "      <td>4</td>\n",
       "      <td>0</td>\n",
       "      <td>UNK</td>\n",
       "      <td>2.0</td>\n",
       "      <td>NaN</td>\n",
       "      <td>0</td>\n",
       "      <td>IV</td>\n",
       "      <td>Left Lower Lobe</td>\n",
       "      <td>Squamous cell carcinoma</td>\n",
       "      <td>1.4</td>\n",
       "      <td>8</td>\n",
       "      <td>8</td>\n",
       "      <td>2.0</td>\n",
       "      <td>0.0</td>\n",
       "      <td>1.4</td>\n",
       "    </tr>\n",
       "    <tr>\n",
       "      <th>2</th>\n",
       "      <td>Dead</td>\n",
       "      <td>19.0</td>\n",
       "      <td>73</td>\n",
       "      <td>2</td>\n",
       "      <td>0</td>\n",
       "      <td>UNK</td>\n",
       "      <td>2.0</td>\n",
       "      <td>0.0</td>\n",
       "      <td>5</td>\n",
       "      <td>IV</td>\n",
       "      <td>Right Upper Lobe</td>\n",
       "      <td>Adenocarcinoma</td>\n",
       "      <td>NaN</td>\n",
       "      <td>2</td>\n",
       "      <td>2</td>\n",
       "      <td>2.0</td>\n",
       "      <td>0.0</td>\n",
       "      <td>2.0</td>\n",
       "    </tr>\n",
       "    <tr>\n",
       "      <th>3</th>\n",
       "      <td>Dead</td>\n",
       "      <td>13.0</td>\n",
       "      <td>72</td>\n",
       "      <td>3</td>\n",
       "      <td>0</td>\n",
       "      <td>2</td>\n",
       "      <td>2.0</td>\n",
       "      <td>0.0</td>\n",
       "      <td>0</td>\n",
       "      <td>IIIA</td>\n",
       "      <td>Right Upper Lobe</td>\n",
       "      <td>Adenocarcinoma</td>\n",
       "      <td>1.5</td>\n",
       "      <td>1</td>\n",
       "      <td>1</td>\n",
       "      <td>2.0</td>\n",
       "      <td>0.0</td>\n",
       "      <td>1.5</td>\n",
       "    </tr>\n",
       "    <tr>\n",
       "      <th>4</th>\n",
       "      <td>Dead</td>\n",
       "      <td>15.0</td>\n",
       "      <td>69</td>\n",
       "      <td>9</td>\n",
       "      <td>1</td>\n",
       "      <td>1a</td>\n",
       "      <td>0.0</td>\n",
       "      <td>1.0</td>\n",
       "      <td>0</td>\n",
       "      <td>IA</td>\n",
       "      <td>Right Upper Lobe</td>\n",
       "      <td>Adenocarcinoma</td>\n",
       "      <td>NaN</td>\n",
       "      <td>4</td>\n",
       "      <td>4</td>\n",
       "      <td>0.0</td>\n",
       "      <td>1.0</td>\n",
       "      <td>3.6</td>\n",
       "    </tr>\n",
       "    <tr>\n",
       "      <th>5</th>\n",
       "      <td>Dead</td>\n",
       "      <td>10.0</td>\n",
       "      <td>76</td>\n",
       "      <td>9</td>\n",
       "      <td>0</td>\n",
       "      <td>UNK</td>\n",
       "      <td>NaN</td>\n",
       "      <td>NaN</td>\n",
       "      <td>0</td>\n",
       "      <td>IIIA</td>\n",
       "      <td>Left Hilar</td>\n",
       "      <td>Large-cell carcinoma</td>\n",
       "      <td>NaN</td>\n",
       "      <td>3</td>\n",
       "      <td>3</td>\n",
       "      <td>0.0</td>\n",
       "      <td>0.0</td>\n",
       "      <td>9.0</td>\n",
       "    </tr>\n",
       "  </tbody>\n",
       "</table>\n",
       "</div>"
      ],
      "text/plain": [
       "   Outcome  Survival.Months  Age  Grade  Num.Primaries    T    N    M  \\\n",
       "ID                                                                      \n",
       "1    Alive              9.0   67      4              0  UNK  2.0  NaN   \n",
       "2     Dead             19.0   73      2              0  UNK  2.0  0.0   \n",
       "3     Dead             13.0   72      3              0    2  2.0  0.0   \n",
       "4     Dead             15.0   69      9              1   1a  0.0  1.0   \n",
       "5     Dead             10.0   76      9              0  UNK  NaN  NaN   \n",
       "\n",
       "    Radiation Stage      Primary.Site                Histology  Tumor.Size  \\\n",
       "ID                                                                           \n",
       "1           0    IV   Left Lower Lobe  Squamous cell carcinoma         1.4   \n",
       "2           5    IV  Right Upper Lobe           Adenocarcinoma         NaN   \n",
       "3           0  IIIA  Right Upper Lobe           Adenocarcinoma         1.5   \n",
       "4           0    IA  Right Upper Lobe           Adenocarcinoma         NaN   \n",
       "5           0  IIIA        Left Hilar     Large-cell carcinoma         NaN   \n",
       "\n",
       "    Num.Mutated.Genes  Num.Mutations  N_imp  M_imp  Tumor.Size_imp  \n",
       "ID                                                                  \n",
       "1                   8              8    2.0    0.0             1.4  \n",
       "2                   2              2    2.0    0.0             2.0  \n",
       "3                   1              1    2.0    0.0             1.5  \n",
       "4                   4              4    0.0    1.0             3.6  \n",
       "5                   3              3    0.0    0.0             9.0  "
      ]
     },
     "execution_count": 15,
     "metadata": {},
     "output_type": "execute_result"
    }
   ],
   "source": [
    "missing_columns = ['N', 'M', 'Tumor.Size']\n",
    "\n",
    "def random_imputation(df, feature):\n",
    "    number_missing = df[feature].isnull().sum()\n",
    "    observed_values = df.loc[df[feature].notnull(), feature]\n",
    "    df.loc[df[feature].isnull(), feature + '_imp'] = np.random.choice(observed_values, number_missing, replace = True)\n",
    "    return df\n",
    "\n",
    "for feature in missing_columns:\n",
    "    df[feature + '_imp'] = df[feature]\n",
    "    df = random_imputation(df, feature)\n",
    "\n",
    "df.head()"
   ]
  },
  {
   "cell_type": "markdown",
   "id": "02c390c3",
   "metadata": {},
   "source": [
    "Now that we have the imputed data, we can drop the columns with NaN values and leave the imputed columns"
   ]
  },
  {
   "cell_type": "code",
   "execution_count": 16,
   "id": "1971e283",
   "metadata": {},
   "outputs": [
    {
     "data": {
      "text/html": [
       "<div>\n",
       "<style scoped>\n",
       "    .dataframe tbody tr th:only-of-type {\n",
       "        vertical-align: middle;\n",
       "    }\n",
       "\n",
       "    .dataframe tbody tr th {\n",
       "        vertical-align: top;\n",
       "    }\n",
       "\n",
       "    .dataframe thead th {\n",
       "        text-align: right;\n",
       "    }\n",
       "</style>\n",
       "<table border=\"1\" class=\"dataframe\">\n",
       "  <thead>\n",
       "    <tr style=\"text-align: right;\">\n",
       "      <th></th>\n",
       "      <th>Outcome</th>\n",
       "      <th>Survival.Months</th>\n",
       "      <th>Age</th>\n",
       "      <th>Grade</th>\n",
       "      <th>Num.Primaries</th>\n",
       "      <th>T</th>\n",
       "      <th>Radiation</th>\n",
       "      <th>Stage</th>\n",
       "      <th>Primary.Site</th>\n",
       "      <th>Histology</th>\n",
       "      <th>Num.Mutated.Genes</th>\n",
       "      <th>Num.Mutations</th>\n",
       "      <th>N_imp</th>\n",
       "      <th>M_imp</th>\n",
       "      <th>Tumor.Size_imp</th>\n",
       "    </tr>\n",
       "    <tr>\n",
       "      <th>ID</th>\n",
       "      <th></th>\n",
       "      <th></th>\n",
       "      <th></th>\n",
       "      <th></th>\n",
       "      <th></th>\n",
       "      <th></th>\n",
       "      <th></th>\n",
       "      <th></th>\n",
       "      <th></th>\n",
       "      <th></th>\n",
       "      <th></th>\n",
       "      <th></th>\n",
       "      <th></th>\n",
       "      <th></th>\n",
       "      <th></th>\n",
       "    </tr>\n",
       "  </thead>\n",
       "  <tbody>\n",
       "    <tr>\n",
       "      <th>1</th>\n",
       "      <td>Alive</td>\n",
       "      <td>9.0</td>\n",
       "      <td>67</td>\n",
       "      <td>4</td>\n",
       "      <td>0</td>\n",
       "      <td>UNK</td>\n",
       "      <td>0</td>\n",
       "      <td>IV</td>\n",
       "      <td>Left Lower Lobe</td>\n",
       "      <td>Squamous cell carcinoma</td>\n",
       "      <td>8</td>\n",
       "      <td>8</td>\n",
       "      <td>2.0</td>\n",
       "      <td>0.0</td>\n",
       "      <td>1.4</td>\n",
       "    </tr>\n",
       "    <tr>\n",
       "      <th>2</th>\n",
       "      <td>Dead</td>\n",
       "      <td>19.0</td>\n",
       "      <td>73</td>\n",
       "      <td>2</td>\n",
       "      <td>0</td>\n",
       "      <td>UNK</td>\n",
       "      <td>5</td>\n",
       "      <td>IV</td>\n",
       "      <td>Right Upper Lobe</td>\n",
       "      <td>Adenocarcinoma</td>\n",
       "      <td>2</td>\n",
       "      <td>2</td>\n",
       "      <td>2.0</td>\n",
       "      <td>0.0</td>\n",
       "      <td>2.0</td>\n",
       "    </tr>\n",
       "    <tr>\n",
       "      <th>3</th>\n",
       "      <td>Dead</td>\n",
       "      <td>13.0</td>\n",
       "      <td>72</td>\n",
       "      <td>3</td>\n",
       "      <td>0</td>\n",
       "      <td>2</td>\n",
       "      <td>0</td>\n",
       "      <td>IIIA</td>\n",
       "      <td>Right Upper Lobe</td>\n",
       "      <td>Adenocarcinoma</td>\n",
       "      <td>1</td>\n",
       "      <td>1</td>\n",
       "      <td>2.0</td>\n",
       "      <td>0.0</td>\n",
       "      <td>1.5</td>\n",
       "    </tr>\n",
       "    <tr>\n",
       "      <th>4</th>\n",
       "      <td>Dead</td>\n",
       "      <td>15.0</td>\n",
       "      <td>69</td>\n",
       "      <td>9</td>\n",
       "      <td>1</td>\n",
       "      <td>1a</td>\n",
       "      <td>0</td>\n",
       "      <td>IA</td>\n",
       "      <td>Right Upper Lobe</td>\n",
       "      <td>Adenocarcinoma</td>\n",
       "      <td>4</td>\n",
       "      <td>4</td>\n",
       "      <td>0.0</td>\n",
       "      <td>1.0</td>\n",
       "      <td>3.6</td>\n",
       "    </tr>\n",
       "    <tr>\n",
       "      <th>5</th>\n",
       "      <td>Dead</td>\n",
       "      <td>10.0</td>\n",
       "      <td>76</td>\n",
       "      <td>9</td>\n",
       "      <td>0</td>\n",
       "      <td>UNK</td>\n",
       "      <td>0</td>\n",
       "      <td>IIIA</td>\n",
       "      <td>Left Hilar</td>\n",
       "      <td>Large-cell carcinoma</td>\n",
       "      <td>3</td>\n",
       "      <td>3</td>\n",
       "      <td>0.0</td>\n",
       "      <td>0.0</td>\n",
       "      <td>9.0</td>\n",
       "    </tr>\n",
       "  </tbody>\n",
       "</table>\n",
       "</div>"
      ],
      "text/plain": [
       "   Outcome  Survival.Months  Age  Grade  Num.Primaries    T  Radiation Stage  \\\n",
       "ID                                                                             \n",
       "1    Alive              9.0   67      4              0  UNK          0    IV   \n",
       "2     Dead             19.0   73      2              0  UNK          5    IV   \n",
       "3     Dead             13.0   72      3              0    2          0  IIIA   \n",
       "4     Dead             15.0   69      9              1   1a          0    IA   \n",
       "5     Dead             10.0   76      9              0  UNK          0  IIIA   \n",
       "\n",
       "        Primary.Site                Histology  Num.Mutated.Genes  \\\n",
       "ID                                                                 \n",
       "1    Left Lower Lobe  Squamous cell carcinoma                  8   \n",
       "2   Right Upper Lobe           Adenocarcinoma                  2   \n",
       "3   Right Upper Lobe           Adenocarcinoma                  1   \n",
       "4   Right Upper Lobe           Adenocarcinoma                  4   \n",
       "5         Left Hilar     Large-cell carcinoma                  3   \n",
       "\n",
       "    Num.Mutations  N_imp  M_imp  Tumor.Size_imp  \n",
       "ID                                               \n",
       "1               8    2.0    0.0             1.4  \n",
       "2               2    2.0    0.0             2.0  \n",
       "3               1    2.0    0.0             1.5  \n",
       "4               4    0.0    1.0             3.6  \n",
       "5               3    0.0    0.0             9.0  "
      ]
     },
     "execution_count": 16,
     "metadata": {},
     "output_type": "execute_result"
    }
   ],
   "source": [
    "df.drop(['N', 'M', 'Tumor.Size'], axis=1, inplace=True)\n",
    "df.head()"
   ]
  },
  {
   "cell_type": "code",
   "execution_count": 17,
   "id": "73d3c9fb",
   "metadata": {},
   "outputs": [
    {
     "data": {
      "text/plain": [
       "Outcome              False\n",
       "Survival.Months      False\n",
       "Age                  False\n",
       "Grade                False\n",
       "Num.Primaries        False\n",
       "T                    False\n",
       "Radiation            False\n",
       "Stage                False\n",
       "Primary.Site         False\n",
       "Histology            False\n",
       "Num.Mutated.Genes    False\n",
       "Num.Mutations        False\n",
       "N_imp                False\n",
       "M_imp                False\n",
       "Tumor.Size_imp       False\n",
       "dtype: bool"
      ]
     },
     "execution_count": 17,
     "metadata": {},
     "output_type": "execute_result"
    }
   ],
   "source": [
    "df.isnull().any()"
   ]
  },
  {
   "cell_type": "markdown",
   "id": "440ae4e0",
   "metadata": {},
   "source": [
    "# Data Visualization"
   ]
  },
  {
   "cell_type": "code",
   "execution_count": 18,
   "id": "935a18fc",
   "metadata": {},
   "outputs": [
    {
     "data": {
      "text/plain": [
       "<seaborn.axisgrid.FacetGrid at 0x225282a8d90>"
      ]
     },
     "execution_count": 18,
     "metadata": {},
     "output_type": "execute_result"
    },
    {
     "data": {
      "image/png": "[encoded data removed]",
      "text/plain": [
       "<Figure size 360x360 with 1 Axes>"
      ]
     },
     "metadata": {
      "needs_background": "light"
     },
     "output_type": "display_data"
    }
   ],
   "source": [
    "sns.catplot(x='Outcome', kind='count', data=df)"
   ]
  },
  {
   "cell_type": "code",
   "execution_count": 19,
   "id": "31f18553",
   "metadata": {},
   "outputs": [
    {
     "data": {
      "text/html": [
       "<div>\n",
       "<style scoped>\n",
       "    .dataframe tbody tr th:only-of-type {\n",
       "        vertical-align: middle;\n",
       "    }\n",
       "\n",
       "    .dataframe tbody tr th {\n",
       "        vertical-align: top;\n",
       "    }\n",
       "\n",
       "    .dataframe thead th {\n",
       "        text-align: right;\n",
       "    }\n",
       "</style>\n",
       "<table border=\"1\" class=\"dataframe\">\n",
       "  <thead>\n",
       "    <tr style=\"text-align: right;\">\n",
       "      <th></th>\n",
       "      <th>Survival.Months</th>\n",
       "      <th>Age</th>\n",
       "      <th>Grade</th>\n",
       "      <th>Num.Primaries</th>\n",
       "      <th>Radiation</th>\n",
       "      <th>Num.Mutated.Genes</th>\n",
       "      <th>Num.Mutations</th>\n",
       "      <th>N_imp</th>\n",
       "      <th>M_imp</th>\n",
       "      <th>Tumor.Size_imp</th>\n",
       "    </tr>\n",
       "    <tr>\n",
       "      <th>ID</th>\n",
       "      <th></th>\n",
       "      <th></th>\n",
       "      <th></th>\n",
       "      <th></th>\n",
       "      <th></th>\n",
       "      <th></th>\n",
       "      <th></th>\n",
       "      <th></th>\n",
       "      <th></th>\n",
       "      <th></th>\n",
       "    </tr>\n",
       "  </thead>\n",
       "  <tbody>\n",
       "    <tr>\n",
       "      <th>1</th>\n",
       "      <td>9.0</td>\n",
       "      <td>67</td>\n",
       "      <td>4</td>\n",
       "      <td>0</td>\n",
       "      <td>0</td>\n",
       "      <td>8</td>\n",
       "      <td>8</td>\n",
       "      <td>2.0</td>\n",
       "      <td>0.0</td>\n",
       "      <td>1.4</td>\n",
       "    </tr>\n",
       "    <tr>\n",
       "      <th>2</th>\n",
       "      <td>19.0</td>\n",
       "      <td>73</td>\n",
       "      <td>2</td>\n",
       "      <td>0</td>\n",
       "      <td>5</td>\n",
       "      <td>2</td>\n",
       "      <td>2</td>\n",
       "      <td>2.0</td>\n",
       "      <td>0.0</td>\n",
       "      <td>2.0</td>\n",
       "    </tr>\n",
       "    <tr>\n",
       "      <th>3</th>\n",
       "      <td>13.0</td>\n",
       "      <td>72</td>\n",
       "      <td>3</td>\n",
       "      <td>0</td>\n",
       "      <td>0</td>\n",
       "      <td>1</td>\n",
       "      <td>1</td>\n",
       "      <td>2.0</td>\n",
       "      <td>0.0</td>\n",
       "      <td>1.5</td>\n",
       "    </tr>\n",
       "    <tr>\n",
       "      <th>4</th>\n",
       "      <td>15.0</td>\n",
       "      <td>69</td>\n",
       "      <td>9</td>\n",
       "      <td>1</td>\n",
       "      <td>0</td>\n",
       "      <td>4</td>\n",
       "      <td>4</td>\n",
       "      <td>0.0</td>\n",
       "      <td>1.0</td>\n",
       "      <td>3.6</td>\n",
       "    </tr>\n",
       "    <tr>\n",
       "      <th>5</th>\n",
       "      <td>10.0</td>\n",
       "      <td>76</td>\n",
       "      <td>9</td>\n",
       "      <td>0</td>\n",
       "      <td>0</td>\n",
       "      <td>3</td>\n",
       "      <td>3</td>\n",
       "      <td>0.0</td>\n",
       "      <td>0.0</td>\n",
       "      <td>9.0</td>\n",
       "    </tr>\n",
       "  </tbody>\n",
       "</table>\n",
       "</div>"
      ],
      "text/plain": [
       "    Survival.Months  Age  Grade  Num.Primaries  Radiation  Num.Mutated.Genes  \\\n",
       "ID                                                                             \n",
       "1               9.0   67      4              0          0                  8   \n",
       "2              19.0   73      2              0          5                  2   \n",
       "3              13.0   72      3              0          0                  1   \n",
       "4              15.0   69      9              1          0                  4   \n",
       "5              10.0   76      9              0          0                  3   \n",
       "\n",
       "    Num.Mutations  N_imp  M_imp  Tumor.Size_imp  \n",
       "ID                                               \n",
       "1               8    2.0    0.0             1.4  \n",
       "2               2    2.0    0.0             2.0  \n",
       "3               1    2.0    0.0             1.5  \n",
       "4               4    0.0    1.0             3.6  \n",
       "5               3    0.0    0.0             9.0  "
      ]
     },
     "execution_count": 19,
     "metadata": {},
     "output_type": "execute_result"
    }
   ],
   "source": [
    "df2 = df.drop(['Outcome', 'Stage', 'Primary.Site', 'Histology', 'T'], axis=1)\n",
    "\n",
    "df2.head()"
   ]
  },
  {
   "cell_type": "code",
   "execution_count": 20,
   "id": "97f6a11f",
   "metadata": {},
   "outputs": [
    {
     "data": {
      "text/plain": [
       "<AxesSubplot:>"
      ]
     },
     "execution_count": 20,
     "metadata": {},
     "output_type": "execute_result"
    },
    {
     "data": {
      "image/png": "[encoded data removed]",
      "text/plain": [
       "<Figure size 1152x864 with 2 Axes>"
      ]
     },
     "metadata": {
      "needs_background": "light"
     },
     "output_type": "display_data"
    }
   ],
   "source": [
    "plt.figure(figsize=(16,12))\n",
    "sns.heatmap(df2.corr(), annot=True)"
   ]
  },
  {
   "cell_type": "markdown",
   "id": "77fed993",
   "metadata": {},
   "source": [
    "Survival Months and Number of Primary Tumors are highly correlated, and so is Radiation treatment with Number of Primary Tumors."
   ]
  },
  {
   "cell_type": "code",
   "execution_count": 21,
   "id": "96d3c5ad",
   "metadata": {},
   "outputs": [
    {
     "data": {
      "image/png": "[encoded data removed]",
      "text/plain": [
       "<Figure size 864x864 with 15 Axes>"
      ]
     },
     "metadata": {
      "needs_background": "light"
     },
     "output_type": "display_data"
    }
   ],
   "source": [
    "df.hist(layout= (5,3),figsize=(12,12))\n",
    "plt.show()"
   ]
  },
  {
   "cell_type": "code",
   "execution_count": 27,
   "id": "e0af3caf",
   "metadata": {},
   "outputs": [
    {
     "name": "stdout",
     "output_type": "stream",
     "text": [
      "<class 'pandas.core.frame.DataFrame'>\n",
      "Int64Index: 190 entries, 1 to 190\n",
      "Data columns (total 15 columns):\n",
      " #   Column             Non-Null Count  Dtype  \n",
      "---  ------             --------------  -----  \n",
      " 0   Outcome            190 non-null    object \n",
      " 1   Survival.Months    190 non-null    float64\n",
      " 2   Age                190 non-null    int64  \n",
      " 3   Grade              190 non-null    int64  \n",
      " 4   Num.Primaries      190 non-null    int64  \n",
      " 5   T                  190 non-null    object \n",
      " 6   Radiation          190 non-null    int64  \n",
      " 7   Stage              190 non-null    object \n",
      " 8   Primary.Site       190 non-null    object \n",
      " 9   Histology          190 non-null    object \n",
      " 10  Num.Mutated.Genes  190 non-null    int64  \n",
      " 11  Num.Mutations      190 non-null    int64  \n",
      " 12  N_imp              190 non-null    float64\n",
      " 13  M_imp              190 non-null    float64\n",
      " 14  Tumor.Size_imp     190 non-null    float64\n",
      "dtypes: float64(4), int64(6), object(5)\n",
      "memory usage: 27.8+ KB\n"
     ]
    }
   ],
   "source": [
    "df.info()"
   ]
  },
  {
   "cell_type": "code",
   "execution_count": null,
   "id": "b3655690",
   "metadata": {},
   "outputs": [],
   "source": [
    "sns.boxplot(x=\"N\", y=\"N_imp\", data=df)"
   ]
  },
  {
   "cell_type": "markdown",
   "id": "d58e823e",
   "metadata": {},
   "source": [
    "# Data Preprocessing\n",
    "\n",
    "There are different measurements for each column, so we need to standardize the data to accuratly be able to "
   ]
  },
  {
   "cell_type": "markdown",
   "id": "df369fba",
   "metadata": {},
   "source": [
    "Categorical Data to numerical data"
   ]
  },
  {
   "cell_type": "code",
   "execution_count": 28,
   "id": "19d70d87",
   "metadata": {},
   "outputs": [
    {
     "name": "stdout",
     "output_type": "stream",
     "text": [
      "   onehotencoder__x0_Alive  onehotencoder__x0_Dead  onehotencoder__x1_1  \\\n",
      "0                      1.0                     0.0                  0.0   \n",
      "1                      0.0                     1.0                  0.0   \n",
      "2                      0.0                     1.0                  0.0   \n",
      "3                      0.0                     1.0                  0.0   \n",
      "4                      0.0                     1.0                  0.0   \n",
      "\n",
      "   onehotencoder__x1_1a  onehotencoder__x1_1b  onehotencoder__x1_2  \\\n",
      "0                   0.0                   0.0                  0.0   \n",
      "1                   0.0                   0.0                  0.0   \n",
      "2                   0.0                   0.0                  1.0   \n",
      "3                   1.0                   0.0                  0.0   \n",
      "4                   0.0                   0.0                  0.0   \n",
      "\n",
      "   onehotencoder__x1_2a  onehotencoder__x1_2b  onehotencoder__x1_3  \\\n",
      "0                   0.0                   0.0                  0.0   \n",
      "1                   0.0                   0.0                  0.0   \n",
      "2                   0.0                   0.0                  0.0   \n",
      "3                   0.0                   0.0                  0.0   \n",
      "4                   0.0                   0.0                  0.0   \n",
      "\n",
      "   onehotencoder__x1_4  ...  Survival.Months   Age  Grade  Num.Primaries  \\\n",
      "0                  0.0  ...              9.0  67.0    4.0            0.0   \n",
      "1                  0.0  ...             19.0  73.0    2.0            0.0   \n",
      "2                  0.0  ...             13.0  72.0    3.0            0.0   \n",
      "3                  0.0  ...             15.0  69.0    9.0            1.0   \n",
      "4                  0.0  ...             10.0  76.0    9.0            0.0   \n",
      "\n",
      "   Radiation  Num.Mutated.Genes  Num.Mutations  N_imp  M_imp  Tumor.Size_imp  \n",
      "0        0.0                8.0            8.0    2.0    0.0             1.4  \n",
      "1        5.0                2.0            2.0    2.0    0.0             2.0  \n",
      "2        0.0                1.0            1.0    2.0    0.0             1.5  \n",
      "3        0.0                4.0            4.0    0.0    1.0             3.6  \n",
      "4        0.0                3.0            3.0    0.0    0.0             9.0  \n",
      "\n",
      "[5 rows x 40 columns]\n"
     ]
    }
   ],
   "source": [
    "# make_column_transformer is OneHotEncoding for multiple columns\n",
    "transformer = make_column_transformer((OneHotEncoder(), \n",
    "                                       ['Outcome', 'T', 'Stage', 'Primary.Site', 'Histology']),\n",
    "                                      remainder='passthrough')\n",
    "transformed = transformer.fit_transform(df)\n",
    "transformed_df = pd.DataFrame(transformed, columns=transformer.get_feature_names())\n",
    "\n",
    "print(transformed_df.head())"
   ]
  },
  {
   "cell_type": "code",
   "execution_count": 29,
   "id": "d24290e9",
   "metadata": {},
   "outputs": [
    {
     "data": {
      "text/plain": [
       "(190, 40)"
      ]
     },
     "execution_count": 29,
     "metadata": {},
     "output_type": "execute_result"
    }
   ],
   "source": [
    "transformed_df.shape"
   ]
  },
  {
   "cell_type": "markdown",
   "id": "56a34eef",
   "metadata": {},
   "source": [
    "Feature Scaling with Normalization\n",
    "\n",
    "Tried using MinMaxScaler() to normalize data, but gave slightly worse results."
   ]
  },
  {
   "cell_type": "markdown",
   "id": "84bbb8bb",
   "metadata": {},
   "source": [
    "# Data Modeling"
   ]
  },
  {
   "cell_type": "code",
   "execution_count": 68,
   "id": "277268c7",
   "metadata": {},
   "outputs": [
    {
     "name": "stdout",
     "output_type": "stream",
     "text": [
      "(152, 38)\n",
      "(38, 38)\n",
      "(152, 2)\n",
      "(38, 2)\n"
     ]
    }
   ],
   "source": [
    "# Split-out validation dataset\n",
    "array = transformed_df.values\n",
    "X = array[:,2:40]\n",
    "Y = array[:,0:2]\n",
    "validation_size = 0.20\n",
    "seed = 0\n",
    "X_train, X_validation, Y_train, Y_validation = train_test_split(X,Y,test_size=validation_size, random_state=seed)\n",
    "\n",
    "# Verify shape of trainers and validators\n",
    "print(X_train.shape)\n",
    "print(X_validation.shape)\n",
    "print(Y_train.shape)\n",
    "print(Y_validation.shape)"
   ]
  },
  {
   "cell_type": "code",
   "execution_count": 69,
   "id": "7d5e852e",
   "metadata": {},
   "outputs": [
    {
     "name": "stdout",
     "output_type": "stream",
     "text": [
      "LR: nan (nan)\n",
      "LDA: nan (nan)\n",
      "KNN: 0.809167 (0.078634)\n",
      "CART: 0.875417 (0.089490)\n",
      "NB: nan (nan)\n",
      "SVM: nan (nan)\n"
     ]
    }
   ],
   "source": [
    "# Spot-Check Algorithms\n",
    "warnings.filterwarnings('ignore')\n",
    "models = []\n",
    "models.append(('LR', LogisticRegression()))\n",
    "models.append(('LDA', LinearDiscriminantAnalysis()))\n",
    "models.append(('KNN', KNeighborsClassifier()))\n",
    "models.append(('CART', DecisionTreeClassifier()))\n",
    "models.append(('NB', GaussianNB()))\n",
    "models.append(('SVM', SVC()))\n",
    "# evaluate each model in turn\n",
    "results = []\n",
    "names = []\n",
    "for name, model in models:\n",
    "    kfold = KFold(n_splits=10, random_state=seed)\n",
    "    cv_results = cross_val_score(model, X_train, Y_train, cv=kfold, scoring='accuracy')\n",
    "    results.append(cv_results)\n",
    "    names.append(name)\n",
    "    msg = \"%s: %f (%f)\" % (name, cv_results.mean(), cv_results.std())\n",
    "    print(msg)"
   ]
  },
  {
   "cell_type": "code",
   "execution_count": 70,
   "id": "46ecea28",
   "metadata": {},
   "outputs": [
    {
     "data": {
      "image/png": "[encoded data removed]",
      "text/plain": [
       "<Figure size 432x288 with 1 Axes>"
      ]
     },
     "metadata": {
      "needs_background": "light"
     },
     "output_type": "display_data"
    }
   ],
   "source": [
    "#Compare Algorithms\n",
    "fig = plt.figure()\n",
    "fig.suptitle('Algorithm Comparison')\n",
    "ax = fig.add_subplot(111)\n",
    "plt.boxplot(results)\n",
    "ax.set_xticklabels(names)\n",
    "plt.show()"
   ]
  },
  {
   "cell_type": "code",
   "execution_count": 73,
   "id": "27ed2650",
   "metadata": {},
   "outputs": [
    {
     "name": "stdout",
     "output_type": "stream",
     "text": [
      "Accuracy SCore:  0.8947368421052632\n",
      "Classification Report: \n",
      "               precision    recall  f1-score   support\n",
      "\n",
      "           0       0.83      0.62      0.71         8\n",
      "           1       0.91      0.97      0.94        30\n",
      "\n",
      "   micro avg       0.89      0.89      0.89        38\n",
      "   macro avg       0.87      0.80      0.82        38\n",
      "weighted avg       0.89      0.89      0.89        38\n",
      " samples avg       0.89      0.89      0.89        38\n",
      "\n"
     ]
    }
   ],
   "source": [
    "# Make predictions on validation dataset using DecisionTreeClassifier() Algorithm\n",
    "knn = DecisionTreeClassifier()\n",
    "knn.fit(X_train, Y_train)\n",
    "predictions = knn.predict(X_validation)\n",
    "\n",
    "#Accuracy Score\n",
    "print('Accuracy SCore: ', accuracy_score(Y_validation, predictions))\n",
    "\n",
    "# Classification report\n",
    "print('Classification Report: \\n', classification_report(Y_validation, predictions))"
   ]
  },
  {
   "cell_type": "code",
   "execution_count": 74,
   "id": "15c8b67f",
   "metadata": {},
   "outputs": [
    {
     "data": {
      "image/png": "[encoded data removed]",
      "text/plain": [
       "<Figure size 432x288 with 2 Axes>"
      ]
     },
     "metadata": {
      "needs_background": "light"
     },
     "output_type": "display_data"
    }
   ],
   "source": [
    "lables = ['Positive','Negative']\n",
    "\n",
    "ax= plt.subplot()\n",
    "\n",
    "cm = confusion_matrix(np.asarray(Y_validation).argmax(axis=1), np.asarray(predictions).argmax(axis=1))\n",
    "sns.heatmap(cm, annot=True, fmt='g', ax=ax);  #annot=True to annotate cells, ftm='g' to disable scientific notation\n",
    "\n",
    "# labels, title and ticks\n",
    "ax.set_xlabel('Predicted labels');\n",
    "ax.set_ylabel('True labels'); \n",
    "ax.set_title('Confusion Matrix'); \n",
    "ax.xaxis.set_ticklabels(lables); \n",
    "ax.yaxis.set_ticklabels(lables);"
   ]
  },
  {
   "cell_type": "code",
   "execution_count": null,
   "id": "4a978065",
   "metadata": {},
   "outputs": [],
   "source": []
  }
 ],
 "metadata": {
  "kernelspec": {
   "display_name": "GPUenv",
   "language": "python",
   "name": "gpuenv"
  },
  "language_info": {
   "codemirror_mode": {
    "name": "ipython",
    "version": 3
   },
   "file_extension": ".py",
   "mimetype": "text/x-python",
   "name": "python",
   "nbconvert_exporter": "python",
   "pygments_lexer": "ipython3",
   "version": "3.8.11"
  }
 },
 "nbformat": 4,
 "nbformat_minor": 5
}
